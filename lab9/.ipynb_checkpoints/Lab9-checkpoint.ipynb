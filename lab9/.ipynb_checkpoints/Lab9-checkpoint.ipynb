{
 "cells": [
  {
   "cell_type": "code",
   "execution_count": 6,
   "metadata": {},
   "outputs": [
    {
     "data": {
      "text/plain": [
       "'\\nThe main difference between regression and classification is that\\nin regression the output is numerical/continuous while that for classification is categorical/discrete.\\n\\nOur major goal is to diagnose the cancer, so it is clearly a classification problem.\\n\\n'"
      ]
     },
     "execution_count": 6,
     "metadata": {},
     "output_type": "execute_result"
    }
   ],
   "source": [
    "# Answer 1\n",
    "'''\n",
    "The problem assgined in lab 9 is supervised machine learning problem where features are defined in dataset.\n",
    "'''\n",
    "\n",
    "# Answer 2\n",
    "\n",
    "'''\n",
    "The main difference between regression and classification is that\n",
    "in regression the output is numerical/continuous while that for classification is categorical/discrete.\n",
    "\n",
    "Our major goal is to diagnose the cancer, so it is clearly a classification problem.\n",
    "\n",
    "'''"
   ]
  },
  {
   "cell_type": "code",
   "execution_count": 18,
   "metadata": {},
   "outputs": [
    {
     "name": "stdout",
     "output_type": "stream",
     "text": [
      "The accuracy using SGD classifier is  0.7953216374269005\n",
      "The accuracy using Decision Tree Classifier is  0.8947368421052632\n",
      "The accuracy using Random Forest Classifier is  0.9298245614035088\n"
     ]
    }
   ],
   "source": [
    "# Answer 3\n",
    "\n",
    "from sklearn import datasets\n",
    "from sklearn.model_selection import train_test_split\n",
    "from sklearn.linear_model import SGDClassifier\n",
    "from sklearn.tree import DecisionTreeClassifier\n",
    "from sklearn.ensemble import RandomForestClassifier\n",
    "from sklearn import metrics\n",
    "\n",
    "dataset = datasets.load_breast_cancer()\n",
    "X = dataset.data #features\n",
    "y = dataset.target #target\n",
    "X_train, X_test, y_train, y_test = train_test_split(X, y, test_size=0.3)\n",
    "\n",
    "# part a using SGD classifier\n",
    "model = SGDClassifier()\n",
    "model.fit(X_train, y_train)\n",
    "y_test_pred = model.predict(X_test)\n",
    "print (\"The accuracy using SGD classifier is \", metrics.accuracy_score(y_test, y_test_pred))\n",
    "\n",
    "\n",
    "# part a using Decision Tree Classifier\n",
    "model = DecisionTreeClassifier()\n",
    "model.fit(X_train, y_train)\n",
    "y_test_pred = model.predict(X_test)\n",
    "print (\"The accuracy using Decision Tree Classifier is \", metrics.accuracy_score(y_test, y_test_pred))\n",
    "\n",
    "# part a using Random Forest Classifier\n",
    "model = RandomForestClassifier()\n",
    "model.fit(X_train, y_train)\n",
    "y_test_pred = model.predict(X_test)\n",
    "print (\"The accuracy using Random Forest Classifier is \", metrics.accuracy_score(y_test, y_test_pred))"
   ]
  },
  {
   "cell_type": "code",
   "execution_count": 23,
   "metadata": {},
   "outputs": [
    {
     "name": "stdout",
     "output_type": "stream",
     "text": [
      "The accuracy using SGD classifier and PCA is  0.9707602339181286\n",
      "The accuracy using Decision Tree Classifier and PCA is  0.9415204678362573\n",
      "The accuracy using Random Forest Classifier and PCA is  0.9590643274853801\n"
     ]
    }
   ],
   "source": [
    "# Answer 4\n",
    "\n",
    "from sklearn.preprocessing import scale\n",
    "from sklearn.decomposition import PCA\n",
    "\n",
    "iris = datasets.load_breast_cancer()\n",
    "X = iris.data\n",
    "y = iris.target\n",
    "X = scale(X)\n",
    "X= PCA(n_components=5).fit_transform(X) #PCA\n",
    "X_train, X_test, y_train, y_test = train_test_split(X, y, test_size=0.3)\n",
    "\n",
    "# part a using SGD classifier\n",
    "model = SGDClassifier()\n",
    "model.fit(X_train, y_train)\n",
    "y_test_pred = model.predict(X_test)\n",
    "print (\"The accuracy using SGD classifier and PCA is \", metrics.accuracy_score(y_test, y_test_pred))\n",
    "\n",
    "\n",
    "# part a using Decision Tree Classifier\n",
    "model = DecisionTreeClassifier()\n",
    "model.fit(X_train, y_train)\n",
    "y_test_pred = model.predict(X_test)\n",
    "print (\"The accuracy using Decision Tree Classifier and PCA is \", metrics.accuracy_score(y_test, y_test_pred))\n",
    "\n",
    "# part a using Random Forest Classifier\n",
    "model = RandomForestClassifier()\n",
    "model.fit(X_train, y_train)\n",
    "y_test_pred = model.predict(X_test)\n",
    "print (\"The accuracy using Random Forest Classifier and PCA is \", metrics.accuracy_score(y_test, y_test_pred))"
   ]
  },
  {
   "cell_type": "code",
   "execution_count": 36,
   "metadata": {},
   "outputs": [
    {
     "name": "stdout",
     "output_type": "stream",
     "text": [
      "Confusion matrix is  [[ 53   6]\n",
      " [  2 110]]\n",
      "Accuracy of confusion matrix is  0.9532163742690059\n"
     ]
    },
    {
     "data": {
      "text/plain": [
       "'\\nfor cancer diagnosis a given patient have disease X or not. \\nIt is better to have false positives here which can assert that a patient has a disease,\\nand then later realize that the decision was wrong, maybe after more tests / some preliminary medication. \\nHowever, a false negative here means that someone who had a disease was not provided proper medical treatment,\\nwhich could be fatal.'"
      ]
     },
     "execution_count": 36,
     "metadata": {},
     "output_type": "execute_result"
    }
   ],
   "source": [
    "# Answer 5\n",
    "\n",
    "'''\n",
    "I am selecting random forest classifier as a favourite model and the confusion matrix is developed\n",
    "'''\n",
    "\n",
    "from sklearn import datasets\n",
    "from sklearn.model_selection import train_test_split\n",
    "from sklearn.ensemble import RandomForestClassifier\n",
    "from sklearn import metrics\n",
    "from sklearn.metrics import confusion_matrix\n",
    "import numpy as np\n",
    "\n",
    "dataset = datasets.load_breast_cancer()\n",
    "X = dataset.data #features\n",
    "y = dataset.target #target\n",
    "X_train, X_test, y_train, y_test = train_test_split(X, y, test_size=0.3)\n",
    "\n",
    "# part a using SGD classifier\n",
    "model = RandomForestClassifier()\n",
    "model.fit(X_train, y_train)\n",
    "y_test_pred = model.predict(X_test)\n",
    "cm = confusion_matrix(y_test, y_test_pred)\n",
    "print(\"Confusion matrix is \",cm)\n",
    "accuracy_of_confusion_matrix = (cm[0,0]+cm[1,1])/np.sum(cm)\n",
    "print(\"Accuracy of confusion matrix is \",accuracy_of_confusion_matrix)\n",
    "''' The model is highly effective as accuracy through confusion matrix is almost 95%'''\n",
    "\n",
    "'''\n",
    "for cancer diagnosis a given patient have disease X or not. \n",
    "It is better to have false positives here which can assert that a patient has a disease,\n",
    "and then later realize that the decision was wrong, maybe after more tests / some preliminary medication. \n",
    "However, a false negative here means that someone who had a disease was not provided proper medical treatment,\n",
    "which could be fatal.'''"
   ]
  },
  {
   "cell_type": "code",
   "execution_count": null,
   "metadata": {},
   "outputs": [],
   "source": []
  }
 ],
 "metadata": {
  "kernelspec": {
   "display_name": "Python 3",
   "language": "python",
   "name": "python3"
  },
  "language_info": {
   "codemirror_mode": {
    "name": "ipython",
    "version": 3
   },
   "file_extension": ".py",
   "mimetype": "text/x-python",
   "name": "python",
   "nbconvert_exporter": "python",
   "pygments_lexer": "ipython3",
   "version": "3.7.6"
  }
 },
 "nbformat": 4,
 "nbformat_minor": 4
}
