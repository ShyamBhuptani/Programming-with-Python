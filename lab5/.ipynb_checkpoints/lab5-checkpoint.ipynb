{
 "cells": [
  {
   "cell_type": "code",
   "execution_count": 3,
   "metadata": {},
   "outputs": [
    {
     "name": "stdout",
     "output_type": "stream",
     "text": [
      "Old MacDonald had a farm, Ee-igh, Ee-igh, Oh!\n",
      "And on that farm he had a Cow , Ee-igh, Ee-igh, Oh!\n",
      "With a moo , moo here and a moo , moo there.\n",
      "Here a moo , there a moo , everywhere a moo , moo .\n",
      "Old MacDonald had a farm, Ee-igh, Ee-igh, Oh! \n",
      "\n",
      "Old MacDonald had a farm, Ee-igh, Ee-igh, Oh!\n",
      "And on that farm he had a Dogs , Ee-igh, Ee-igh, Oh!\n",
      "With a woof , woof here and a woof , woof there.\n",
      "Here a woof , there a woof , everywhere a woof , woof .\n",
      "Old MacDonald had a farm, Ee-igh, Ee-igh, Oh! \n",
      "\n",
      "Old MacDonald had a farm, Ee-igh, Ee-igh, Oh!\n",
      "And on that farm he had a Chickens , Ee-igh, Ee-igh, Oh!\n",
      "With a cluck , cluck here and a cluck , cluck there.\n",
      "Here a cluck , there a cluck , everywhere a cluck , cluck .\n",
      "Old MacDonald had a farm, Ee-igh, Ee-igh, Oh! \n",
      "\n",
      "Old MacDonald had a farm, Ee-igh, Ee-igh, Oh!\n",
      "And on that farm he had a Horses , Ee-igh, Ee-igh, Oh!\n",
      "With a neigh , neigh here and a neigh , neigh there.\n",
      "Here a neigh , there a neigh , everywhere a neigh , neigh .\n",
      "Old MacDonald had a farm, Ee-igh, Ee-igh, Oh! \n",
      "\n",
      "Old MacDonald had a farm, Ee-igh, Ee-igh, Oh!\n",
      "And on that farm he had a Goats , Ee-igh, Ee-igh, Oh!\n",
      "With a baa , baa here and a baa , baa there.\n",
      "Here a baa , there a baa , everywhere a baa , baa .\n",
      "Old MacDonald had a farm, Ee-igh, Ee-igh, Oh! \n",
      "\n"
     ]
    }
   ],
   "source": [
    "#################################\n",
    "### Question 1\n",
    "#################################\n",
    "\n",
    "animals = [\"Cow\",\"Dogs\",\"Chickens\",\"Horses\",\"Goats\"]\n",
    "sounds = [\"moo\",\"woof\",\"cluck\",\"neigh\",\"baa\"]\n",
    "\n",
    "for i in range(5):\n",
    "    print(\"\"\"Old MacDonald had a farm, Ee-igh, Ee-igh, Oh!\n",
    "And on that farm he had a {0} , Ee-igh, Ee-igh, Oh!\n",
    "With a {1} , {1} here and a {1} , {1} there.\n",
    "Here a {1} , there a {1} , everywhere a {1} , {1} .\n",
    "Old MacDonald had a farm, Ee-igh, Ee-igh, Oh! \\n\"\"\".format(animals[i],sounds[i]))"
   ]
  },
  {
   "cell_type": "code",
   "execution_count": 20,
   "metadata": {},
   "outputs": [
    {
     "name": "stdout",
     "output_type": "stream",
     "text": [
      "Random password is  jY06E4yqiy\n"
     ]
    }
   ],
   "source": [
    "#################################\n",
    "### Question 2\n",
    "#################################\n",
    "\n",
    "# part a\n",
    "import random\n",
    "import string\n",
    "\n",
    "def randomString(stringLength=10):\n",
    "    letters = string.ascii_lowercase\n",
    "    letters += string.ascii_uppercase\n",
    "    letters += string.digits\n",
    "    letters += \"!@#$%^&*\"\n",
    "    return ''.join(random.choice(letters) for i in range(stringLength))\n",
    "print(\"Random password is \",randomString())\n",
    "\n",
    "#part b\n",
    "f = open(\"password.txt\",\"w\")\n",
    "f.write(\"100 different passwords are as below\\n\")\n",
    "f.write(\"**************************** \\n\")\n",
    "for i in range(100):\n",
    "    f.write(randomString())\n",
    "    f.write(\"\\n\")\n",
    "f.close()"
   ]
  },
  {
   "cell_type": "code",
   "execution_count": 13,
   "metadata": {},
   "outputs": [
    {
     "name": "stdout",
     "output_type": "stream",
     "text": [
      "perimeter of above given polygon is 8.0\n"
     ]
    }
   ],
   "source": [
    "#################################\n",
    "### Question 3\n",
    "#################################\n",
    "import time, math\n",
    "from graphics import *\n",
    "\n",
    "#part a\n",
    "def distance(point1,point2):\n",
    "    x1,y1 = point1.getX() , point1.getY()\n",
    "    x2,y2 = point2.getX() , point2.getY()\n",
    "    return round(math.sqrt((x2-x1)**2 + (y2-y1)**2),2)\n",
    "\n",
    "#part b\n",
    "def perimeter(polygon):\n",
    "    perimeter = 0\n",
    "    list_of_points = polygon.getPoints()\n",
    "    for i in range(len(list_of_points)):\n",
    "        z= 0 if i == len(list_of_points) -1 else (i+1)\n",
    "        perimeter += distance(list_of_points[i],list_of_points[z])\n",
    "    return round(perimeter,2)\n",
    "\n",
    "#part c\n",
    "Polygon = Polygon(Point(0,0), Point(2,0), Point(2,2),Point(0,2))\n",
    "print(\"perimeter of above given polygon is\" ,perimeter(Polygon))"
   ]
  },
  {
   "cell_type": "code",
   "execution_count": 22,
   "metadata": {},
   "outputs": [
    {
     "name": "stdout",
     "output_type": "stream",
     "text": [
      "[21, 25, 36, 52, 66, 75, 81, 77, 70, 55, 41, 28]\n",
      "[-6.11, -3.89, 2.22, 11.11, 18.89, 23.89, 27.22, 25.0, 21.11, 12.78, 5.0, -2.22]\n"
     ]
    },
    {
     "data": {
      "image/png": "[encoded data removed]",
      "text/plain": [
       "<Figure size 432x288 with 1 Axes>"
      ]
     },
     "metadata": {
      "needs_background": "light"
     },
     "output_type": "display_data"
    }
   ],
   "source": [
    "#################################\n",
    "### Question 4\n",
    "#################################\n",
    "import matplotlib.pyplot as plt\n",
    "#part a \n",
    "def convertor(listOfTFE):\n",
    "    listOfCel = []\n",
    "    for i in listOfTFE:\n",
    "        cel = (i - 32) * (5/9)\n",
    "        listOfCel.append(round(cel,2))\n",
    "    return listOfCel\n",
    "\n",
    "#part b\n",
    "f = open(\"averageHighsOttawa.txt\",\"r\")\n",
    "months = []\n",
    "temps = []\n",
    "for i in f:\n",
    "    months.append(i[:3])\n",
    "    temps.append(int(i[4:-1]))\n",
    "print(temps)\n",
    "celTemp = convertor(temps)\n",
    "print(celTemp)\n",
    "\n",
    "#part c\n",
    "plt.bar(months,celTemp)\n",
    "plt.xlabel(\"Month\")\n",
    "plt.ylabel(\"Temp in C\")\n",
    "plt.show()"
   ]
  },
  {
   "cell_type": "code",
   "execution_count": null,
   "metadata": {},
   "outputs": [],
   "source": []
  }
 ],
 "metadata": {
  "kernelspec": {
   "display_name": "Python 3",
   "language": "python",
   "name": "python3"
  },
  "language_info": {
   "codemirror_mode": {
    "name": "ipython",
    "version": 3
   },
   "file_extension": ".py",
   "mimetype": "text/x-python",
   "name": "python",
   "nbconvert_exporter": "python",
   "pygments_lexer": "ipython3",
   "version": "3.7.4"
  }
 },
 "nbformat": 4,
 "nbformat_minor": 2
}
