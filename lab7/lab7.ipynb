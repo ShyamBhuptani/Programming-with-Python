{
 "cells": [
  {
   "cell_type": "code",
   "execution_count": 3,
   "metadata": {},
   "outputs": [
    {
     "name": "stdout",
     "output_type": "stream",
     "text": [
      "Would you like to scan a page (yes/no)?yes\n",
      "Subtotal: $0.05\n",
      "Would you like to scan a page (yes/no)?yes\n",
      "Subtotal: $0.1\n",
      "Would you like to scan a page (yes/no)?yes\n",
      "Subtotal: $0.15\n",
      "Would you like to scan a page (yes/no)?no\n",
      "Total : $0.15\n"
     ]
    }
   ],
   "source": [
    "########################################\n",
    "###### Question 1\n",
    "#######################################\n",
    "\n",
    "x = True\n",
    "cost = 0.0\n",
    "while(x):\n",
    "    inp = input(\"Would you like to scan a page (yes/no)?\")\n",
    "    if(inp == \"yes\" or inp == \"Yes\"):\n",
    "        x = True\n",
    "        cost = cost + 0.05\n",
    "        print(\"Subtotal: $\"+str(round(cost,2)))\n",
    "    elif (inp == \"no\" or inp == \"No\"):\n",
    "        x = False\n",
    "        print(\"Total : $\"+str(round(cost,2)))\n",
    "    else:\n",
    "        print(\"Wrong Input\")\n",
    "        print(\"Total : $\"+str(round(cost,2)))\n",
    "        x = False\n",
    "        "
   ]
  },
  {
   "cell_type": "code",
   "execution_count": 22,
   "metadata": {},
   "outputs": [
    {
     "name": "stdout",
     "output_type": "stream",
     "text": [
      "the estimated probability of winning is 0.506\n"
     ]
    }
   ],
   "source": [
    "########################################\n",
    "###### Question 2\n",
    "#######################################\n",
    "from random import randint\n",
    "\n",
    "def roll():\n",
    "    return randint(1, 6) + randint(1, 6)\n",
    "\n",
    "def craps():\n",
    "    first = roll()\n",
    "    if first in {2,3,12}:\n",
    "        return 0\n",
    "    elif first in {7,11}:\n",
    "        return 1\n",
    "    while True:\n",
    "        roll_ = roll()\n",
    "        if roll_ == first:\n",
    "            return 1\n",
    "        elif roll_ == 7:\n",
    "            return 0\n",
    "        \n",
    "passed_cases = 0\n",
    "for x in range(500):\n",
    "    passed_cases += craps()\n",
    "print(\"the estimated probability of winning is\",passed_cases/500)"
   ]
  },
  {
   "cell_type": "code",
   "execution_count": null,
   "metadata": {},
   "outputs": [],
   "source": [
    "########################################\n",
    "###### Question 3\n",
    "#######################################\n",
    "\n",
    "#part a\n",
    "def check(string):\n",
    "    if(len(string) != 3):\n",
    "        print(\"Invalid string, length should be 3\")\n",
    "        return False\n",
    "    i = 2\n",
    "    list_codon = [\"A\",\"G\",\"T\",\"C\"]\n",
    "    res = False\n",
    "    while i:\n",
    "        if string[i] in list_codon:\n",
    "            res = True\n",
    "        else:\n",
    "            res = False\n",
    "            break\n",
    "        i -= 1\n",
    "    return res\n",
    "#check(\"ABB\")\n",
    "\n",
    "#part b\n",
    "x = True\n",
    "while(True):\n",
    "    inp = input(\"Please enter a codon : \")\n",
    "    res = \"Valid\" if check(inp) == True else \"Invalid\"\n",
    "    print(\"Your entred codon is\",res)\n",
    "    if(res == \"Valid\"):\n",
    "        x = False\n",
    "        break"
   ]
  },
  {
   "cell_type": "code",
   "execution_count": 5,
   "metadata": {},
   "outputs": [
    {
     "name": "stdout",
     "output_type": "stream",
     "text": [
      "8\n"
     ]
    }
   ],
   "source": [
    "########################################\n",
    "###### Question 4\n",
    "#######################################\n",
    "\n",
    "#part a\n",
    "'''\n",
    "Post test while loop will be helpful to stop determine stop codons and break the code\n",
    "code will be like\n",
    "\n",
    "while(string):\n",
    "    if(string[slice] = END_CODONS):\n",
    "    break\n",
    "    \n",
    "'''\n",
    "#part b\n",
    "\n",
    "string = \"AAAATGACCACDACFTAGAAAATGACCACDACFTAG\"\n",
    "stop_codons = [\"TAG\",\"TAA\",\"TGA\"]\n",
    "counter = 0\n",
    "sums = 0\n",
    "i = 0\n",
    "codon = string[0:i+3]\n",
    "while(i < len(string)):\n",
    "    if(codon not in stop_codons):\n",
    "        if(codon == \"ATG\"):\n",
    "            counter += 1\n",
    "        elif(counter > 0):\n",
    "            counter += 1\n",
    "        i += 3\n",
    "        codon = string[i:i+3]\n",
    "    else:\n",
    "        sums +=  counter\n",
    "        counter = 0\n",
    "        i+=3\n",
    "        codon = string[i:i+3]\n",
    "\n",
    "print(sums)"
   ]
  },
  {
   "cell_type": "code",
   "execution_count": null,
   "metadata": {},
   "outputs": [],
   "source": []
  }
 ],
 "metadata": {
  "kernelspec": {
   "display_name": "Python 3",
   "language": "python",
   "name": "python3"
  },
  "language_info": {
   "codemirror_mode": {
    "name": "ipython",
    "version": 3
   },
   "file_extension": ".py",
   "mimetype": "text/x-python",
   "name": "python",
   "nbconvert_exporter": "python",
   "pygments_lexer": "ipython3",
   "version": "3.7.6"
  }
 },
 "nbformat": 4,
 "nbformat_minor": 4
}
