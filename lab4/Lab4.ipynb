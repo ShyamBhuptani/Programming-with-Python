{
 "cells": [
  {
   "cell_type": "code",
   "execution_count": 1,
   "metadata": {},
   "outputs": [
    {
     "name": "stdout",
     "output_type": "stream",
     "text": [
      "Please enter your birth month full month name, i.e January : shyam\n",
      "Your birthstone is unavailable due to incorrect month name\n"
     ]
    }
   ],
   "source": [
    "##################################\n",
    "#### Question 1\n",
    "##################################\n",
    "#used list as this lab is about list and string otherwise dictionary  will be best DS for this problem\n",
    "month = [\"january\",\"february\",\"march\",\"april\",\"may\",\"june\",\"july\",\"august\",\"september\",\"october\",\"november\",\"december\"]\n",
    "stone = [\"Garnet\",\"Amethyst\",\"Aquamarine\",\"Diamond\",\"Emerald\",\"Pearl\",\"Ruby\",\"Peridot\",\"Sapphire\",\"Opal\",\"Topaz\",\"Turquoise\"]\n",
    "\n",
    "def birthstone(mon):\n",
    "    if mon in month:\n",
    "        index = month.index(mon)\n",
    "        return stone[index]\n",
    "    else : \n",
    "        return \"unavailable due to incorrect month name\"\n",
    "\n",
    "def main():\n",
    "    month_ip = input(\"Please enter your birth month full month name, i.e January : \")\n",
    "    res = birthstone(month_ip.strip().lower())\n",
    "    print(\"Your birthstone is\",res)\n",
    "\n",
    "main()"
   ]
  },
  {
   "cell_type": "code",
   "execution_count": 1,
   "metadata": {},
   "outputs": [
    {
     "name": "stdout",
     "output_type": "stream",
     "text": [
      "enter the key (a numerical val) : 2\n",
      "Enter your message :shyam aaya\n",
      "The encrypted version is : uj{cocc{c"
     ]
    }
   ],
   "source": [
    "##################################\n",
    "#### Question 2\n",
    "##################################\n",
    "\n",
    "#problem a\n",
    "# I have used ord and chr functions to find the ascii and then add the key value instead of hardcoding it usign list of A to Z\n",
    "def cipher():\n",
    "    key_val = eval(input(\"enter the key (a numerical val) : \"))\n",
    "    string_ip = input(\"Enter your message :\")\n",
    "    string_ip = string_ip.replace(\" \", \"\")\n",
    "    print(\"The encrypted version is :\",end=\" \")\n",
    "    for i in string_ip:\n",
    "        i = ord(i)+ key_val\n",
    "        print(chr(i),end=\"\")\n",
    "cipher()\n",
    "\n",
    "#problem b\n",
    "# Explaination for decipher the message : \n",
    "# 1. we can use common word list from https://www.wordfrequency.info/free.asp\n",
    "# 2. then for first word, we need to deduct key value in the range of max ascii word so to make the intermediate word\n",
    "# 3. then for each iteration, comapare the intermediate word if it is present in the wordlist\n",
    "# 4. if the word exists, then using that key value, decipher all other words which can probably make meaningful sentance( here the \n",
    "# accuracy cannot be determined as many words can be created, we should use ML to solve this problem )"
   ]
  },
  {
   "cell_type": "code",
   "execution_count": 2,
   "metadata": {},
   "outputs": [
    {
     "name": "stdout",
     "output_type": "stream",
     "text": [
      "****** Problem A starts *************\n",
      "Enter your message :shyam\n",
      "mayhs \n",
      "\n",
      "****** Problem A ends *************\n",
      "****** Problem B starts *************\n",
      "****** Problem B ends and output.txt is created *************\n"
     ]
    }
   ],
   "source": [
    "##################################\n",
    "#### Question 3\n",
    "##################################\n",
    "#problem a\n",
    "print(\"****** Problem A starts *************\")\n",
    "def reverse():\n",
    "    string_ip = input(\"Enter your message :\")\n",
    "    for i in string_ip.split():\n",
    "        i = i[::-1]\n",
    "        print(i,end=\" \")\n",
    "    print(\"\\n\")\n",
    "reverse()\n",
    "print(\"****** Problem A ends *************\")\n",
    "\n",
    "#problem b\n",
    "print(\"****** Problem B starts *************\")\n",
    "file_name = \"diary.txt\"\n",
    "\n",
    "f = open(file_name,\"r\", encoding='utf-8-sig')\n",
    "f1 = open(\"Output.txt\",\"w\", encoding='utf-8-sig')\n",
    "for i in f:\n",
    "    if i.strip():\n",
    "        for i in i.split():\n",
    "            i = i[::-1]\n",
    "            f1.write(i)\n",
    "            f1.write(\" \")\n",
    "    else:\n",
    "        f1.write(\"\\n\")\n",
    "f.close()\n",
    "f1.close()\n",
    "print(\"****** Problem B ends and output.txt is created *************\")"
   ]
  },
  {
   "cell_type": "code",
   "execution_count": null,
   "metadata": {},
   "outputs": [],
   "source": []
  }
 ],
 "metadata": {
  "kernelspec": {
   "display_name": "Python 3",
   "language": "python",
   "name": "python3"
  },
  "language_info": {
   "codemirror_mode": {
    "name": "ipython",
    "version": 3
   },
   "file_extension": ".py",
   "mimetype": "text/x-python",
   "name": "python",
   "nbconvert_exporter": "python",
   "pygments_lexer": "ipython3",
   "version": "3.7.4"
  }
 },
 "nbformat": 4,
 "nbformat_minor": 2
}
