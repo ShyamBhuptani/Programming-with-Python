{
 "cells": [
  {
   "cell_type": "code",
   "execution_count": 22,
   "metadata": {},
   "outputs": [
    {
     "name": "stdout",
     "output_type": "stream",
     "text": [
      "radius of circle is 2\n",
      "surface area of circle is 50.27\n",
      "volume of circle is 33.51\n",
      "****************************************************\n",
      "The radius of Earth is 6370 km\n",
      "The surface area of Earth is 509904363.78 km square\n",
      "The volume of Earth is 1082696932430.0 km cube\n",
      "****************************************************\n",
      "The radius of Jupiter is 69910 km\n",
      "The surface area of Jupiter is 61416981528.22 km square\n",
      "The volume of Jupiter is 1431220392879309.8 km cube\n",
      "****************************************************\n",
      "The radius of Mercury is 2440 km\n",
      "The surface area of Mercury is 74815144.09 km square\n",
      "The volume of Mercury is 60849650526.25 km cube\n"
     ]
    }
   ],
   "source": [
    "####################\n",
    "## Question 1\n",
    "####################\n",
    "\n",
    "#part a\n",
    "from math import pi\n",
    "\n",
    "class Spheres:\n",
    "    \n",
    "    def __init__(self, radius):\n",
    "        self.radius = radius\n",
    "        \n",
    "    def getRadius(self):\n",
    "        return self.radius\n",
    "\n",
    "    def surfaceArea(self):\n",
    "        return round(4*(pi)*(self.radius**2),2)\n",
    "    \n",
    "    def volume(self):\n",
    "        return round((4/3)*(pi)*(self.radius**3),2)\n",
    "\n",
    "x = Spheres(2)\n",
    "print(\"radius of circle is\",x.getRadius())\n",
    "print(\"surface area of circle is\",x.surfaceArea())\n",
    "print(\"volume of circle is\",x.volume())\n",
    "\n",
    "#part b\n",
    "dict_pro2 = {\n",
    "    'Earth' : 6370,\n",
    "    \"Jupiter\" : 69910,\n",
    "    \"Mercury\" : 2440\n",
    "}\n",
    "\n",
    "for key,val in dict_pro2.items():\n",
    "    print(\"****************************************************\")\n",
    "    instance = Spheres(val)\n",
    "    print(\"The radius of\",key,\"is\",instance.getRadius(),\"km\")\n",
    "    print(\"The surface area of\",key,'is',instance.surfaceArea(),\"km square\")\n",
    "    print(\"The volume of\",key,'is',instance.volume(),\"km cube\")\n",
    "    "
   ]
  },
  {
   "cell_type": "code",
   "execution_count": 33,
   "metadata": {},
   "outputs": [
    {
     "name": "stdout",
     "output_type": "stream",
     "text": [
      "La La Land (2016)\n",
      "\n",
      "The cast list is as below :\n",
      "La La Land is starring Ryan Gosling\n",
      "La La Land is starring Emma Stone\n"
     ]
    }
   ],
   "source": [
    "####################\n",
    "## Question 2\n",
    "####################\n",
    "\n",
    "#part a\n",
    "class Movie:\n",
    "    \n",
    "    def __init__(self, title, year, rating, awards, cast, director):\n",
    "        self.title = title\n",
    "        self.year = year\n",
    "        self.rating = rating\n",
    "        self.awards = awards\n",
    "        self.cast = cast\n",
    "        self.director = director\n",
    "        \n",
    "    \n",
    "    def __str__(self):\n",
    "        return self.title + ' ('+ str(self.year) +')'\n",
    "    \n",
    "    def cast_list(self):\n",
    "        for x in self.cast:\n",
    "            print(self.title,\"is starring\",x)\n",
    "\n",
    "#part b\n",
    "LaLaLand = Movie(\"La La Land\", 2016, 8, \"Academy Award for Best Actress\", ['Ryan Gosling','Emma Stone'], \"Damien Chazelle\")\n",
    "# string method overrided\n",
    "print(LaLaLand)\n",
    "#list of cast\n",
    "print(\"\\nThe cast list is as below :\")\n",
    "LaLaLand.cast_list()"
   ]
  },
  {
   "cell_type": "code",
   "execution_count": 46,
   "metadata": {},
   "outputs": [
    {
     "name": "stdout",
     "output_type": "stream",
     "text": [
      "Intial weapons\n",
      "Gandalf has the weapon 'Wizard staff'\n",
      "\n",
      "After adding extra weapons\n",
      "Gandalf has the weapon 'Wizard staff'\n",
      "Gandalf has the weapon 'Glamdring'\n",
      "Gandalf has the weapon 'Narya'\n",
      "After feed health 132.0\n"
     ]
    }
   ],
   "source": [
    "####################\n",
    "## Question 3\n",
    "####################\n",
    "class FantasyCharacter:\n",
    "    def __init__(self,name,experience,health):\n",
    "        self.name = name\n",
    "        self.experience = experience\n",
    "        self.health = health\n",
    "    \n",
    "    def feed(self):\n",
    "        self.health = self.health*1.1\n",
    "    \n",
    "    def fight(self):\n",
    "        self.experience = self.experience*1.05\n",
    "        self.health=self.health*0.8\n",
    "\n",
    "#New Fantasy Character class gandalf inheriting main fantasy character class\n",
    "class Gandalf(FantasyCharacter):\n",
    "    def __init__(self,name,experience,health,actor):\n",
    "        FantasyCharacter.__init__(self,name,experience,health)\n",
    "        self.actor = actor\n",
    "        self.weapon = [\"Wizard staff\"]\n",
    "    \n",
    "    def extraWeapon(self,name):\n",
    "        self.weapon.append(name)\n",
    "    \n",
    "    def weapons(self):\n",
    "        for x in self.weapon:\n",
    "            print(self.name,\"has the weapon '\"+str(x)+\"'\")\n",
    "            \n",
    "    def __str__(self):\n",
    "        return self.name\n",
    "\n",
    "G = Gandalf(\"Gandalf\",100,120,\"Sir Ian McKellen\")\n",
    "###\n",
    "print(\"Intial weapons\")\n",
    "G.weapons()\n",
    "print(\"\\nAfter adding extra weapons\")\n",
    "G.extraWeapon(\"Glamdring\")\n",
    "G.extraWeapon(\"Narya\")\n",
    "G.weapons()\n",
    "\n",
    "#using main class method\n",
    "G.feed()\n",
    "#after upgrade\n",
    "print(\"After feed health\",G.health)"
   ]
  },
  {
   "cell_type": "code",
   "execution_count": null,
   "metadata": {},
   "outputs": [],
   "source": []
  }
 ],
 "metadata": {
  "kernelspec": {
   "display_name": "Python 3",
   "language": "python",
   "name": "python3"
  },
  "language_info": {
   "codemirror_mode": {
    "name": "ipython",
    "version": 3
   },
   "file_extension": ".py",
   "mimetype": "text/x-python",
   "name": "python",
   "nbconvert_exporter": "python",
   "pygments_lexer": "ipython3",
   "version": "3.7.6"
  }
 },
 "nbformat": 4,
 "nbformat_minor": 4
}
